{
 "cells": [
  {
   "cell_type": "markdown",
   "metadata": {},
   "source": [
    "# LSTM for Regression Using the Window Method\n",
    "\n",
    "In window method multiple, recent time steps can be used to make the prediction for the next time step and the size of the window is a parameter that can be tuned for each problem.\n",
    "\n",
    "Given the current time (t) we want to predict the value at the next time in the sequence (t+1), we can use the current time (t), as well as the two prior times (t-1 and t-2) as input variables. i.e. When phrased as a regression problem, the input variables are t-2, t-1, t and the output variable is t+1.\n",
    "\n",
    "The difference between Example 5 and Example 6 is only look_back argument that is changed from 1 to 3.\n",
    "\n",
    "Source: https://machinelearningmastery.com/time-series-prediction-lstm-recurrent-neural-networks-python-keras/"
   ]
  },
  {
   "cell_type": "markdown",
   "metadata": {},
   "source": [
    "#### Import packages"
   ]
  },
  {
   "cell_type": "code",
   "execution_count": 1,
   "metadata": {},
   "outputs": [],
   "source": [
    "# LSTM for international airline passengers problem with window regression framing\n",
    "import numpy\n",
    "import matplotlib.pyplot as plt\n",
    "from pandas import read_csv\n",
    "import math\n",
    "from keras.models import Sequential\n",
    "from keras.layers import Dense\n",
    "from keras.layers import LSTM\n",
    "from sklearn.preprocessing import MinMaxScaler\n",
    "from sklearn.metrics import mean_squared_error"
   ]
  },
  {
   "cell_type": "markdown",
   "metadata": {},
   "source": [
    "#### Fix random seed for reproducibility"
   ]
  },
  {
   "cell_type": "code",
   "execution_count": 2,
   "metadata": {},
   "outputs": [],
   "source": [
    "numpy.random.seed(7)"
   ]
  },
  {
   "cell_type": "markdown",
   "metadata": {},
   "source": [
    "#### Load the dataset"
   ]
  },
  {
   "cell_type": "code",
   "execution_count": 5,
   "metadata": {},
   "outputs": [
    {
     "name": "stdout",
     "output_type": "stream",
     "text": [
      "[[112.]\n",
      " [118.]\n",
      " [132.]\n",
      " [129.]\n",
      " [121.]\n",
      " [135.]\n",
      " [148.]\n",
      " [148.]\n",
      " [136.]\n",
      " [119.]\n",
      " [104.]\n",
      " [118.]\n",
      " [115.]\n",
      " [126.]\n",
      " [141.]\n",
      " [135.]\n",
      " [125.]\n",
      " [149.]\n",
      " [170.]\n",
      " [170.]\n",
      " [158.]\n",
      " [133.]\n",
      " [114.]\n",
      " [140.]\n",
      " [145.]\n",
      " [150.]\n",
      " [178.]\n",
      " [163.]\n",
      " [172.]\n",
      " [178.]\n",
      " [199.]\n",
      " [199.]\n",
      " [184.]\n",
      " [162.]\n",
      " [146.]\n",
      " [166.]\n",
      " [171.]\n",
      " [180.]\n",
      " [193.]\n",
      " [181.]\n",
      " [183.]\n",
      " [218.]\n",
      " [230.]\n",
      " [242.]\n",
      " [209.]\n",
      " [191.]\n",
      " [172.]\n",
      " [194.]\n",
      " [196.]\n",
      " [196.]\n",
      " [236.]\n",
      " [235.]\n",
      " [229.]\n",
      " [243.]\n",
      " [264.]\n",
      " [272.]\n",
      " [237.]\n",
      " [211.]\n",
      " [180.]\n",
      " [201.]\n",
      " [204.]\n",
      " [188.]\n",
      " [235.]\n",
      " [227.]\n",
      " [234.]\n",
      " [264.]\n",
      " [302.]\n",
      " [293.]\n",
      " [259.]\n",
      " [229.]\n",
      " [203.]\n",
      " [229.]\n",
      " [242.]\n",
      " [233.]\n",
      " [267.]\n",
      " [269.]\n",
      " [270.]\n",
      " [315.]\n",
      " [364.]\n",
      " [347.]\n",
      " [312.]\n",
      " [274.]\n",
      " [237.]\n",
      " [278.]\n",
      " [284.]\n",
      " [277.]\n",
      " [317.]\n",
      " [313.]\n",
      " [318.]\n",
      " [374.]\n",
      " [413.]\n",
      " [405.]\n",
      " [355.]\n",
      " [306.]\n",
      " [271.]\n",
      " [306.]\n",
      " [315.]\n",
      " [301.]\n",
      " [356.]\n",
      " [348.]\n",
      " [355.]\n",
      " [422.]\n",
      " [465.]\n",
      " [467.]\n",
      " [404.]\n",
      " [347.]\n",
      " [305.]\n",
      " [336.]\n",
      " [340.]\n",
      " [318.]\n",
      " [362.]\n",
      " [348.]\n",
      " [363.]\n",
      " [435.]\n",
      " [491.]\n",
      " [505.]\n",
      " [404.]\n",
      " [359.]\n",
      " [310.]\n",
      " [337.]\n",
      " [360.]\n",
      " [342.]\n",
      " [406.]\n",
      " [396.]\n",
      " [420.]\n",
      " [472.]\n",
      " [548.]\n",
      " [559.]\n",
      " [463.]\n",
      " [407.]\n",
      " [362.]\n",
      " [405.]\n",
      " [417.]\n",
      " [391.]\n",
      " [419.]\n",
      " [461.]\n",
      " [472.]\n",
      " [535.]\n",
      " [622.]\n",
      " [606.]\n",
      " [508.]\n",
      " [461.]\n",
      " [390.]\n",
      " [432.]]\n"
     ]
    }
   ],
   "source": [
    "dataframe = read_csv('AirPassengers.csv', usecols=[1], engine='python')\n",
    "dataset = dataframe.values\n",
    "dataset = dataset.astype('float32')\n",
    "print(dataset)"
   ]
  },
  {
   "cell_type": "markdown",
   "metadata": {},
   "source": [
    "#### Normalize the dataset using the MinMaxScaler preprocessing class from the scikit-learn library"
   ]
  },
  {
   "cell_type": "code",
   "execution_count": 6,
   "metadata": {},
   "outputs": [],
   "source": [
    "scaler = MinMaxScaler(feature_range=(0, 1))\n",
    "dataset = scaler.fit_transform(dataset)"
   ]
  },
  {
   "cell_type": "markdown",
   "metadata": {},
   "source": [
    "#### Split the ordered dataset into train and test datasets"
   ]
  },
  {
   "cell_type": "code",
   "execution_count": 7,
   "metadata": {},
   "outputs": [],
   "source": [
    "train_size = int(len(dataset) * 0.67)\n",
    "test_size = len(dataset) - train_size\n",
    "train, test = dataset[0:train_size,:], dataset[train_size:len(dataset),:]"
   ]
  },
  {
   "cell_type": "markdown",
   "metadata": {},
   "source": [
    "#### Convert an array of values into a dataset matrix"
   ]
  },
  {
   "cell_type": "code",
   "execution_count": 8,
   "metadata": {},
   "outputs": [],
   "source": [
    "# convert an array of values into a dataset matrix\n",
    "def create_dataset(dataset, look_back=1):\n",
    "    dataX, dataY = [], []\n",
    "    for i in range(len(dataset)-look_back-1):\n",
    "        a = dataset[i:(i+look_back), 0]\n",
    "        dataX.append(a)\n",
    "        dataY.append(dataset[i + look_back, 0])\n",
    "    return numpy.array(dataX), numpy.array(dataY)"
   ]
  },
  {
   "cell_type": "markdown",
   "metadata": {},
   "source": [
    "#### Reshape into X=t and Y=t+1\n",
    "The create_dataset() function we created in the previous section allows us to create this formulation of the time series problem by increasing the look_back argument from 1 to 3."
   ]
  },
  {
   "cell_type": "code",
   "execution_count": 9,
   "metadata": {},
   "outputs": [],
   "source": [
    "look_back = 3\n",
    "trainX, trainY = create_dataset(train, look_back)\n",
    "testX, testY = create_dataset(test, look_back)"
   ]
  },
  {
   "cell_type": "markdown",
   "metadata": {},
   "source": [
    "#### Reshape input to be [samples, time steps, features]"
   ]
  },
  {
   "cell_type": "code",
   "execution_count": 12,
   "metadata": {},
   "outputs": [],
   "source": [
    "trainX = numpy.reshape(trainX, (trainX.shape[0], 1, trainX.shape[1]))\n",
    "testX = numpy.reshape(testX, (testX.shape[0], 1, testX.shape[1]))"
   ]
  },
  {
   "cell_type": "markdown",
   "metadata": {},
   "source": [
    "#### Create and fit the LSTM network"
   ]
  },
  {
   "cell_type": "code",
   "execution_count": 13,
   "metadata": {},
   "outputs": [
    {
     "name": "stdout",
     "output_type": "stream",
     "text": [
      "Epoch 1/100\n",
      "92/92 - 2s - loss: 0.0382\n",
      "Epoch 2/100\n",
      "92/92 - 0s - loss: 0.0158\n",
      "Epoch 3/100\n",
      "92/92 - 0s - loss: 0.0110\n",
      "Epoch 4/100\n",
      "92/92 - 0s - loss: 0.0096\n",
      "Epoch 5/100\n",
      "92/92 - 0s - loss: 0.0085\n",
      "Epoch 6/100\n",
      "92/92 - 0s - loss: 0.0074\n",
      "Epoch 7/100\n",
      "92/92 - 0s - loss: 0.0065\n",
      "Epoch 8/100\n",
      "92/92 - 0s - loss: 0.0059\n",
      "Epoch 9/100\n",
      "92/92 - 0s - loss: 0.0052\n",
      "Epoch 10/100\n",
      "92/92 - 0s - loss: 0.0046\n",
      "Epoch 11/100\n",
      "92/92 - 0s - loss: 0.0044\n",
      "Epoch 12/100\n",
      "92/92 - 0s - loss: 0.0040\n",
      "Epoch 13/100\n",
      "92/92 - 0s - loss: 0.0038\n",
      "Epoch 14/100\n",
      "92/92 - 0s - loss: 0.0037\n",
      "Epoch 15/100\n",
      "92/92 - 0s - loss: 0.0037\n",
      "Epoch 16/100\n",
      "92/92 - 0s - loss: 0.0035\n",
      "Epoch 17/100\n",
      "92/92 - 0s - loss: 0.0034\n",
      "Epoch 18/100\n",
      "92/92 - 0s - loss: 0.0035\n",
      "Epoch 19/100\n",
      "92/92 - 0s - loss: 0.0033\n",
      "Epoch 20/100\n",
      "92/92 - 0s - loss: 0.0034\n",
      "Epoch 21/100\n",
      "92/92 - 0s - loss: 0.0032\n",
      "Epoch 22/100\n",
      "92/92 - 0s - loss: 0.0033\n",
      "Epoch 23/100\n",
      "92/92 - 0s - loss: 0.0031\n",
      "Epoch 24/100\n",
      "92/92 - 0s - loss: 0.0032\n",
      "Epoch 25/100\n",
      "92/92 - 0s - loss: 0.0031\n",
      "Epoch 26/100\n",
      "92/92 - 0s - loss: 0.0031\n",
      "Epoch 27/100\n",
      "92/92 - 0s - loss: 0.0030\n",
      "Epoch 28/100\n",
      "92/92 - 0s - loss: 0.0030\n",
      "Epoch 29/100\n",
      "92/92 - 0s - loss: 0.0030\n",
      "Epoch 30/100\n",
      "92/92 - 0s - loss: 0.0028\n",
      "Epoch 31/100\n",
      "92/92 - 0s - loss: 0.0027\n",
      "Epoch 32/100\n",
      "92/92 - 0s - loss: 0.0027\n",
      "Epoch 33/100\n",
      "92/92 - 0s - loss: 0.0025\n",
      "Epoch 34/100\n",
      "92/92 - 0s - loss: 0.0025\n",
      "Epoch 35/100\n",
      "92/92 - 0s - loss: 0.0025\n",
      "Epoch 36/100\n",
      "92/92 - 0s - loss: 0.0024\n",
      "Epoch 37/100\n",
      "92/92 - 0s - loss: 0.0024\n",
      "Epoch 38/100\n",
      "92/92 - 0s - loss: 0.0024\n",
      "Epoch 39/100\n",
      "92/92 - 0s - loss: 0.0022\n",
      "Epoch 40/100\n",
      "92/92 - 0s - loss: 0.0022\n",
      "Epoch 41/100\n",
      "92/92 - 0s - loss: 0.0022\n",
      "Epoch 42/100\n",
      "92/92 - 0s - loss: 0.0021\n",
      "Epoch 43/100\n",
      "92/92 - 0s - loss: 0.0021\n",
      "Epoch 44/100\n",
      "92/92 - 0s - loss: 0.0021\n",
      "Epoch 45/100\n",
      "92/92 - 0s - loss: 0.0022\n",
      "Epoch 46/100\n",
      "92/92 - 0s - loss: 0.0020\n",
      "Epoch 47/100\n",
      "92/92 - 0s - loss: 0.0021\n",
      "Epoch 48/100\n",
      "92/92 - 0s - loss: 0.0020\n",
      "Epoch 49/100\n",
      "92/92 - 0s - loss: 0.0019\n",
      "Epoch 50/100\n",
      "92/92 - 0s - loss: 0.0020\n",
      "Epoch 51/100\n",
      "92/92 - 0s - loss: 0.0020\n",
      "Epoch 52/100\n",
      "92/92 - 0s - loss: 0.0019\n",
      "Epoch 53/100\n",
      "92/92 - 0s - loss: 0.0019\n",
      "Epoch 54/100\n",
      "92/92 - 0s - loss: 0.0019\n",
      "Epoch 55/100\n",
      "92/92 - 0s - loss: 0.0019\n",
      "Epoch 56/100\n",
      "92/92 - 0s - loss: 0.0019\n",
      "Epoch 57/100\n",
      "92/92 - 0s - loss: 0.0020\n",
      "Epoch 58/100\n",
      "92/92 - 0s - loss: 0.0018\n",
      "Epoch 59/100\n",
      "92/92 - 0s - loss: 0.0018\n",
      "Epoch 60/100\n",
      "92/92 - 0s - loss: 0.0019\n",
      "Epoch 61/100\n",
      "92/92 - 0s - loss: 0.0019\n",
      "Epoch 62/100\n",
      "92/92 - 0s - loss: 0.0019\n",
      "Epoch 63/100\n",
      "92/92 - 0s - loss: 0.0018\n",
      "Epoch 64/100\n",
      "92/92 - 0s - loss: 0.0020\n",
      "Epoch 65/100\n",
      "92/92 - 0s - loss: 0.0019\n",
      "Epoch 66/100\n",
      "92/92 - 0s - loss: 0.0018\n",
      "Epoch 67/100\n",
      "92/92 - 0s - loss: 0.0018\n",
      "Epoch 68/100\n",
      "92/92 - 0s - loss: 0.0018\n",
      "Epoch 69/100\n",
      "92/92 - 0s - loss: 0.0018\n",
      "Epoch 70/100\n",
      "92/92 - 0s - loss: 0.0018\n",
      "Epoch 71/100\n",
      "92/92 - 0s - loss: 0.0018\n",
      "Epoch 72/100\n",
      "92/92 - 0s - loss: 0.0019\n",
      "Epoch 73/100\n",
      "92/92 - 0s - loss: 0.0019\n",
      "Epoch 74/100\n",
      "92/92 - 0s - loss: 0.0018\n",
      "Epoch 75/100\n",
      "92/92 - 0s - loss: 0.0018\n",
      "Epoch 76/100\n",
      "92/92 - 0s - loss: 0.0018\n",
      "Epoch 77/100\n",
      "92/92 - 0s - loss: 0.0018\n",
      "Epoch 78/100\n",
      "92/92 - 0s - loss: 0.0018\n",
      "Epoch 79/100\n",
      "92/92 - 0s - loss: 0.0018\n",
      "Epoch 80/100\n",
      "92/92 - 0s - loss: 0.0018\n",
      "Epoch 81/100\n",
      "92/92 - 0s - loss: 0.0018\n",
      "Epoch 82/100\n",
      "92/92 - 0s - loss: 0.0018\n",
      "Epoch 83/100\n",
      "92/92 - 0s - loss: 0.0018\n",
      "Epoch 84/100\n",
      "92/92 - 0s - loss: 0.0018\n",
      "Epoch 85/100\n",
      "92/92 - 0s - loss: 0.0018\n",
      "Epoch 86/100\n",
      "92/92 - 0s - loss: 0.0018\n",
      "Epoch 87/100\n",
      "92/92 - 0s - loss: 0.0018\n",
      "Epoch 88/100\n",
      "92/92 - 0s - loss: 0.0018\n",
      "Epoch 89/100\n",
      "92/92 - 0s - loss: 0.0019\n",
      "Epoch 90/100\n",
      "92/92 - 0s - loss: 0.0017\n",
      "Epoch 91/100\n",
      "92/92 - 0s - loss: 0.0016\n",
      "Epoch 92/100\n",
      "92/92 - 0s - loss: 0.0017\n",
      "Epoch 93/100\n",
      "92/92 - 0s - loss: 0.0017\n",
      "Epoch 94/100\n",
      "92/92 - 0s - loss: 0.0018\n",
      "Epoch 95/100\n",
      "92/92 - 0s - loss: 0.0018\n",
      "Epoch 96/100\n",
      "92/92 - 0s - loss: 0.0017\n",
      "Epoch 97/100\n",
      "92/92 - 0s - loss: 0.0018\n",
      "Epoch 98/100\n",
      "92/92 - 0s - loss: 0.0019\n",
      "Epoch 99/100\n",
      "92/92 - 0s - loss: 0.0017\n",
      "Epoch 100/100\n",
      "92/92 - 0s - loss: 0.0017\n"
     ]
    },
    {
     "data": {
      "text/plain": [
       "<tensorflow.python.keras.callbacks.History at 0x26903c5b1f0>"
      ]
     },
     "execution_count": 13,
     "metadata": {},
     "output_type": "execute_result"
    }
   ],
   "source": [
    "model = Sequential()\n",
    "model.add(LSTM(4, input_shape=(1, look_back)))\n",
    "model.add(Dense(1))\n",
    "model.compile(loss='mean_squared_error', optimizer='adam')\n",
    "model.fit(trainX, trainY, epochs=100, batch_size=1, verbose=2)"
   ]
  },
  {
   "cell_type": "markdown",
   "metadata": {},
   "source": [
    "#### Performance of Model"
   ]
  },
  {
   "cell_type": "code",
   "execution_count": 14,
   "metadata": {},
   "outputs": [
    {
     "name": "stdout",
     "output_type": "stream",
     "text": [
      "Train Score: 21.78 RMSE\n",
      "Test Score: 52.74 RMSE\n"
     ]
    }
   ],
   "source": [
    "# make predictions\n",
    "trainPredict = model.predict(trainX)\n",
    "testPredict = model.predict(testX)\n",
    "# invert predictions\n",
    "trainPredict = scaler.inverse_transform(trainPredict)\n",
    "trainY = scaler.inverse_transform([trainY])\n",
    "testPredict = scaler.inverse_transform(testPredict)\n",
    "testY = scaler.inverse_transform([testY])\n",
    "# calculate root mean squared error\n",
    "trainScore = math.sqrt(mean_squared_error(trainY[0], trainPredict[:,0]))\n",
    "print('Train Score: %.2f RMSE' % (trainScore))\n",
    "testScore = math.sqrt(mean_squared_error(testY[0], testPredict[:,0]))\n",
    "print('Test Score: %.2f RMSE' % (testScore))"
   ]
  },
  {
   "cell_type": "markdown",
   "metadata": {},
   "source": [
    "#### Plot baseline and predictions"
   ]
  },
  {
   "cell_type": "code",
   "execution_count": 16,
   "metadata": {},
   "outputs": [
    {
     "data": {
      "image/png": "[encoded data removed]",
      "text/plain": [
       "<Figure size 432x288 with 1 Axes>"
      ]
     },
     "metadata": {
      "needs_background": "light"
     },
     "output_type": "display_data"
    }
   ],
   "source": [
    "# shift train predictions for plotting\n",
    "trainPredictPlot = numpy.empty_like(dataset)\n",
    "trainPredictPlot[:, :] = numpy.nan\n",
    "trainPredictPlot[look_back:len(trainPredict)+look_back, :] = trainPredict\n",
    "# shift test predictions for plotting\n",
    "testPredictPlot = numpy.empty_like(dataset)\n",
    "testPredictPlot[:, :] = numpy.nan\n",
    "testPredictPlot[len(trainPredict)+(look_back*2)+1:len(dataset)-1, :] = testPredict\n",
    "# plot baseline and predictions\n",
    "plt.plot(scaler.inverse_transform(dataset))\n",
    "plt.plot(trainPredictPlot)\n",
    "plt.plot(testPredictPlot)\n",
    "plt.legend(['Train Prediction', 'Test Prediction'])\n",
    "plt.show()"
   ]
  },
  {
   "cell_type": "code",
   "execution_count": null,
   "metadata": {},
   "outputs": [],
   "source": []
  }
 ],
 "metadata": {
  "kernelspec": {
   "display_name": "Python 3",
   "language": "python",
   "name": "python3"
  },
  "language_info": {
   "codemirror_mode": {
    "name": "ipython",
    "version": 3
   },
   "file_extension": ".py",
   "mimetype": "text/x-python",
   "name": "python",
   "nbconvert_exporter": "python",
   "pygments_lexer": "ipython3",
   "version": "3.8.5"
  }
 },
 "nbformat": 4,
 "nbformat_minor": 4
}
