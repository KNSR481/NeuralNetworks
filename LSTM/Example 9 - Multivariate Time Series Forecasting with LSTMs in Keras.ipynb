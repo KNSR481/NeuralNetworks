{
 "cells": [
  {
   "cell_type": "markdown",
   "metadata": {},
   "source": [
    "# Multivariate Time Series Forecasting with LSTMs in Keras"
   ]
  },
  {
   "cell_type": "markdown",
   "metadata": {},
   "source": [
    "1. How to transform a raw dataset into something we can use for time series forecasting.\n",
    "2. How to prepare data and fit an LSTM for a multivariate time series forecasting problem.\n",
    "3. How to make a forecast and rescale the result back into the original units"
   ]
  },
  {
   "cell_type": "markdown",
   "metadata": {},
   "source": [
    "#### Source: https://machinelearningmastery.com/multivariate-time-series-forecasting-lstms-keras/"
   ]
  },
  {
   "cell_type": "markdown",
   "metadata": {},
   "source": [
    "#### Air Pollution Forecasting"
   ]
  },
  {
   "cell_type": "markdown",
   "metadata": {},
   "source": [
    "1. __No__: row number\n",
    "2. __year__: year of data in this row\n",
    "3. __month__: month of data in this row\n",
    "4. __day__: day of data in this row\n",
    "5. __hour__: hour of data in this row\n",
    "6. __pm2.5__: PM2.5 concentration\n",
    "7. __DEWP__: Dew Point\n",
    "8. __TEMP__: Temperature\n",
    "9. __PRES__: Pressure\n",
    "10. __cbwd__: Combined wind direction\n",
    "11. __Iws__: Cumulated wind speed\n",
    "12. __Is__: Cumulated hours of snow\n",
    "13. __Ir__: Cumulated hours of rain\n"
   ]
  },
  {
   "cell_type": "markdown",
   "metadata": {},
   "source": [
    "#### Basic Data Preparation"
   ]
  },
  {
   "cell_type": "code",
   "execution_count": 2,
   "metadata": {},
   "outputs": [
    {
     "name": "stdout",
     "output_type": "stream",
     "text": [
      "                     pollution  dew  temp   press wnd_dir  wnd_spd  snow  rain\n",
      "date                                                                          \n",
      "2010-01-02 00:00:00      129.0  -16  -4.0  1020.0      SE     1.79     0     0\n",
      "2010-01-02 01:00:00      148.0  -15  -4.0  1020.0      SE     2.68     0     0\n",
      "2010-01-02 02:00:00      159.0  -11  -5.0  1021.0      SE     3.57     0     0\n",
      "2010-01-02 03:00:00      181.0   -7  -5.0  1022.0      SE     5.36     1     0\n",
      "2010-01-02 04:00:00      138.0   -7  -5.0  1022.0      SE     6.25     2     0\n"
     ]
    }
   ],
   "source": [
    "from pandas import read_csv\n",
    "from datetime import datetime\n",
    "# load data\n",
    "def parse(x):\n",
    "    return datetime.strptime(x, '%Y %m %d %H')\n",
    "dataset = read_csv('raw.csv',  parse_dates = [['year', 'month', 'day', 'hour']], index_col=0, date_parser=parse)\n",
    "dataset.drop('No', axis=1, inplace=True)\n",
    "# manually specify column names\n",
    "dataset.columns = ['pollution', 'dew', 'temp', 'press', 'wnd_dir', 'wnd_spd', 'snow', 'rain']\n",
    "dataset.index.name = 'date'\n",
    "# mark all NA values with 0\n",
    "dataset['pollution'].fillna(0, inplace=True)\n",
    "# drop the first 24 hours\n",
    "dataset = dataset[24:]\n",
    "# summarize first 5 rows\n",
    "print(dataset.head(5))\n",
    "# save to file\n",
    "dataset.to_csv('pollution.csv')"
   ]
  },
  {
   "cell_type": "markdown",
   "metadata": {},
   "source": [
    "### Multivariate LSTM Forecast Model"
   ]
  },
  {
   "cell_type": "markdown",
   "metadata": {},
   "source": [
    "#### LSTM Data Preparation"
   ]
  },
  {
   "cell_type": "code",
   "execution_count": 10,
   "metadata": {},
   "outputs": [],
   "source": [
    "from math import sqrt\n",
    "from numpy import concatenate\n",
    "from matplotlib import pyplot\n",
    "from pandas import read_csv\n",
    "from pandas import DataFrame\n",
    "from pandas import concat\n",
    "from sklearn.preprocessing import MinMaxScaler\n",
    "from sklearn.preprocessing import LabelEncoder\n",
    "from sklearn.metrics import mean_squared_error\n",
    "from keras.models import Sequential\n",
    "from keras.layers import Dense\n",
    "from keras.layers import LSTM"
   ]
  },
  {
   "cell_type": "code",
   "execution_count": 14,
   "metadata": {},
   "outputs": [],
   "source": [
    "# load dataset\n",
    "dataset = read_csv('pollution.csv', header=0, index_col=0)\n",
    "values = dataset.values"
   ]
  },
  {
   "cell_type": "code",
   "execution_count": 15,
   "metadata": {},
   "outputs": [],
   "source": [
    "# integer encode direction\n",
    "encoder = LabelEncoder()\n",
    "values[:,4] = encoder.fit_transform(values[:,4])\n",
    "# ensure all data is float\n",
    "values = values.astype('float32')"
   ]
  },
  {
   "cell_type": "code",
   "execution_count": 16,
   "metadata": {},
   "outputs": [],
   "source": [
    "# normalize features\n",
    "scaler = MinMaxScaler(feature_range=(0, 1))\n",
    "scaled = scaler.fit_transform(values)"
   ]
  },
  {
   "cell_type": "code",
   "execution_count": 17,
   "metadata": {},
   "outputs": [],
   "source": [
    "# convert series to supervised learning\n",
    "def series_to_supervised(data, n_in=1, n_out=1, dropnan=True):\n",
    "    n_vars = 1 if type(data) is list else data.shape[1]\n",
    "    df = DataFrame(data)\n",
    "    cols, names = list(), list()\n",
    "    # input sequence (t-n, ... t-1)\n",
    "    for i in range(n_in, 0, -1):\n",
    "        cols.append(df.shift(i))\n",
    "        names += [('var%d(t-%d)' % (j+1, i)) for j in range(n_vars)]\n",
    "    # forecast sequence (t, t+1, ... t+n)\n",
    "    for i in range(0, n_out):\n",
    "        cols.append(df.shift(-i))\n",
    "        if i == 0:\n",
    "            names += [('var%d(t)' % (j+1)) for j in range(n_vars)]\n",
    "        else:\n",
    "            names += [('var%d(t+%d)' % (j+1, i)) for j in range(n_vars)]\n",
    "    # put it all together\n",
    "    agg = concat(cols, axis=1)\n",
    "    agg.columns = names\n",
    "    # drop rows with NaN values\n",
    "    if dropnan:\n",
    "        agg.dropna(inplace=True)\n",
    "    return agg"
   ]
  },
  {
   "cell_type": "code",
   "execution_count": 18,
   "metadata": {},
   "outputs": [
    {
     "name": "stdout",
     "output_type": "stream",
     "text": [
      "   var1(t-1)  var2(t-1)  var3(t-1)  var4(t-1)  var5(t-1)  var6(t-1)  \\\n",
      "1   0.129779   0.352941   0.245902   0.527273   0.666667   0.002290   \n",
      "2   0.148893   0.367647   0.245902   0.527273   0.666667   0.003811   \n",
      "3   0.159960   0.426471   0.229508   0.545454   0.666667   0.005332   \n",
      "4   0.182093   0.485294   0.229508   0.563637   0.666667   0.008391   \n",
      "5   0.138833   0.485294   0.229508   0.563637   0.666667   0.009912   \n",
      "\n",
      "   var7(t-1)  var8(t-1)   var1(t)  \n",
      "1   0.000000        0.0  0.148893  \n",
      "2   0.000000        0.0  0.159960  \n",
      "3   0.000000        0.0  0.182093  \n",
      "4   0.037037        0.0  0.138833  \n",
      "5   0.074074        0.0  0.109658  \n"
     ]
    }
   ],
   "source": [
    "# frame as supervised learning\n",
    "reframed = series_to_supervised(scaled, 1, 1)\n",
    "# drop columns we don't want to predict\n",
    "reframed.drop(reframed.columns[[9,10,11,12,13,14,15]], axis=1, inplace=True)\n",
    "print(reframed.head())"
   ]
  },
  {
   "cell_type": "code",
   "execution_count": 19,
   "metadata": {},
   "outputs": [
    {
     "name": "stdout",
     "output_type": "stream",
     "text": [
      "(8760, 1, 8) (8760,) (35039, 1, 8) (35039,)\n"
     ]
    }
   ],
   "source": [
    "# split into train and test sets\n",
    "values = reframed.values\n",
    "n_train_hours = 365 * 24\n",
    "train = values[:n_train_hours, :]\n",
    "test = values[n_train_hours:, :]\n",
    "# split into input and outputs\n",
    "train_X, train_y = train[:, :-1], train[:, -1]\n",
    "test_X, test_y = test[:, :-1], test[:, -1]\n",
    "# reshape input to be 3D [samples, timesteps, features]\n",
    "train_X = train_X.reshape((train_X.shape[0], 1, train_X.shape[1]))\n",
    "test_X = test_X.reshape((test_X.shape[0], 1, test_X.shape[1]))\n",
    "print(train_X.shape, train_y.shape, test_X.shape, test_y.shape)"
   ]
  },
  {
   "cell_type": "markdown",
   "metadata": {},
   "source": [
    "#### Define and Fit Model"
   ]
  },
  {
   "cell_type": "code",
   "execution_count": 20,
   "metadata": {
    "scrolled": true
   },
   "outputs": [
    {
     "name": "stdout",
     "output_type": "stream",
     "text": [
      "Epoch 1/50\n",
      "122/122 - 12s - loss: 0.0645 - val_loss: 0.0506\n",
      "Epoch 2/50\n",
      "122/122 - 1s - loss: 0.0447 - val_loss: 0.0534\n",
      "Epoch 3/50\n",
      "122/122 - 2s - loss: 0.0310 - val_loss: 0.0479\n",
      "Epoch 4/50\n",
      "122/122 - 1s - loss: 0.0208 - val_loss: 0.0422\n",
      "Epoch 5/50\n",
      "122/122 - 1s - loss: 0.0174 - val_loss: 0.0379\n",
      "Epoch 6/50\n",
      "122/122 - 1s - loss: 0.0160 - val_loss: 0.0266\n",
      "Epoch 7/50\n",
      "122/122 - 1s - loss: 0.0150 - val_loss: 0.0182\n",
      "Epoch 8/50\n",
      "122/122 - 1s - loss: 0.0147 - val_loss: 0.0162\n",
      "Epoch 9/50\n",
      "122/122 - 1s - loss: 0.0146 - val_loss: 0.0153\n",
      "Epoch 10/50\n",
      "122/122 - 1s - loss: 0.0146 - val_loss: 0.0150\n",
      "Epoch 11/50\n",
      "122/122 - 1s - loss: 0.0146 - val_loss: 0.0150\n",
      "Epoch 12/50\n",
      "122/122 - 1s - loss: 0.0146 - val_loss: 0.0146\n",
      "Epoch 13/50\n",
      "122/122 - 1s - loss: 0.0146 - val_loss: 0.0148\n",
      "Epoch 14/50\n",
      "122/122 - 1s - loss: 0.0147 - val_loss: 0.0143\n",
      "Epoch 15/50\n",
      "122/122 - 1s - loss: 0.0144 - val_loss: 0.0143\n",
      "Epoch 16/50\n",
      "122/122 - 1s - loss: 0.0146 - val_loss: 0.0144\n",
      "Epoch 17/50\n",
      "122/122 - 1s - loss: 0.0146 - val_loss: 0.0141\n",
      "Epoch 18/50\n",
      "122/122 - 1s - loss: 0.0145 - val_loss: 0.0139\n",
      "Epoch 19/50\n",
      "122/122 - 1s - loss: 0.0143 - val_loss: 0.0137\n",
      "Epoch 20/50\n",
      "122/122 - 1s - loss: 0.0145 - val_loss: 0.0141\n",
      "Epoch 21/50\n",
      "122/122 - 1s - loss: 0.0145 - val_loss: 0.0141\n",
      "Epoch 22/50\n",
      "122/122 - 1s - loss: 0.0146 - val_loss: 0.0138\n",
      "Epoch 23/50\n",
      "122/122 - 1s - loss: 0.0145 - val_loss: 0.0137\n",
      "Epoch 24/50\n",
      "122/122 - 1s - loss: 0.0144 - val_loss: 0.0136\n",
      "Epoch 25/50\n",
      "122/122 - 1s - loss: 0.0145 - val_loss: 0.0135\n",
      "Epoch 26/50\n",
      "122/122 - 1s - loss: 0.0145 - val_loss: 0.0134\n",
      "Epoch 27/50\n",
      "122/122 - 1s - loss: 0.0145 - val_loss: 0.0135\n",
      "Epoch 28/50\n",
      "122/122 - 1s - loss: 0.0144 - val_loss: 0.0136\n",
      "Epoch 29/50\n",
      "122/122 - 1s - loss: 0.0145 - val_loss: 0.0135\n",
      "Epoch 30/50\n",
      "122/122 - 1s - loss: 0.0145 - val_loss: 0.0136\n",
      "Epoch 31/50\n",
      "122/122 - 1s - loss: 0.0144 - val_loss: 0.0134\n",
      "Epoch 32/50\n",
      "122/122 - 1s - loss: 0.0145 - val_loss: 0.0137\n",
      "Epoch 33/50\n",
      "122/122 - 1s - loss: 0.0147 - val_loss: 0.0139\n",
      "Epoch 34/50\n",
      "122/122 - 1s - loss: 0.0145 - val_loss: 0.0137\n",
      "Epoch 35/50\n",
      "122/122 - 1s - loss: 0.0144 - val_loss: 0.0135\n",
      "Epoch 36/50\n",
      "122/122 - 1s - loss: 0.0144 - val_loss: 0.0134\n",
      "Epoch 37/50\n",
      "122/122 - 1s - loss: 0.0144 - val_loss: 0.0135\n",
      "Epoch 38/50\n",
      "122/122 - 1s - loss: 0.0144 - val_loss: 0.0135\n",
      "Epoch 39/50\n",
      "122/122 - 1s - loss: 0.0143 - val_loss: 0.0135\n",
      "Epoch 40/50\n",
      "122/122 - 1s - loss: 0.0144 - val_loss: 0.0133\n",
      "Epoch 41/50\n",
      "122/122 - 1s - loss: 0.0144 - val_loss: 0.0134\n",
      "Epoch 42/50\n",
      "122/122 - 1s - loss: 0.0143 - val_loss: 0.0134\n",
      "Epoch 43/50\n",
      "122/122 - 1s - loss: 0.0143 - val_loss: 0.0133\n",
      "Epoch 44/50\n",
      "122/122 - 1s - loss: 0.0143 - val_loss: 0.0133\n",
      "Epoch 45/50\n",
      "122/122 - 1s - loss: 0.0143 - val_loss: 0.0134\n",
      "Epoch 46/50\n",
      "122/122 - 1s - loss: 0.0143 - val_loss: 0.0133\n",
      "Epoch 47/50\n",
      "122/122 - 1s - loss: 0.0143 - val_loss: 0.0133\n",
      "Epoch 48/50\n",
      "122/122 - 1s - loss: 0.0143 - val_loss: 0.0134\n",
      "Epoch 49/50\n",
      "122/122 - 1s - loss: 0.0143 - val_loss: 0.0133\n",
      "Epoch 50/50\n",
      "122/122 - 1s - loss: 0.0143 - val_loss: 0.0133\n"
     ]
    },
    {
     "data": {
      "image/png": "[encoded data removed]",
      "text/plain": [
       "<Figure size 432x288 with 1 Axes>"
      ]
     },
     "metadata": {
      "needs_background": "light"
     },
     "output_type": "display_data"
    }
   ],
   "source": [
    "# design network\n",
    "model = Sequential()\n",
    "model.add(LSTM(50, input_shape=(train_X.shape[1], train_X.shape[2])))\n",
    "model.add(Dense(1))\n",
    "model.compile(loss='mae', optimizer='adam')\n",
    "# fit network\n",
    "history = model.fit(train_X, train_y, epochs=50, batch_size=72, validation_data=(test_X, test_y), verbose=2, shuffle=False)\n",
    "# plot history\n",
    "pyplot.plot(history.history['loss'], label='train')\n",
    "pyplot.plot(history.history['val_loss'], label='test')\n",
    "pyplot.legend()\n",
    "pyplot.show()"
   ]
  },
  {
   "cell_type": "markdown",
   "metadata": {},
   "source": [
    "#### Evaluate Model"
   ]
  },
  {
   "cell_type": "code",
   "execution_count": 21,
   "metadata": {},
   "outputs": [
    {
     "name": "stdout",
     "output_type": "stream",
     "text": [
      "Test RMSE: 26.459\n"
     ]
    }
   ],
   "source": [
    "# make a prediction\n",
    "yhat = model.predict(test_X)\n",
    "test_X = test_X.reshape((test_X.shape[0], test_X.shape[2]))\n",
    "# invert scaling for forecast\n",
    "inv_yhat = concatenate((yhat, test_X[:, 1:]), axis=1)\n",
    "inv_yhat = scaler.inverse_transform(inv_yhat)\n",
    "inv_yhat = inv_yhat[:,0]\n",
    "# invert scaling for actual\n",
    "test_y = test_y.reshape((len(test_y), 1))\n",
    "inv_y = concatenate((test_y, test_X[:, 1:]), axis=1)\n",
    "inv_y = scaler.inverse_transform(inv_y)\n",
    "inv_y = inv_y[:,0]\n",
    "# calculate RMSE\n",
    "rmse = sqrt(mean_squared_error(inv_y, inv_yhat))\n",
    "print('Test RMSE: %.3f' % rmse)"
   ]
  },
  {
   "cell_type": "code",
   "execution_count": null,
   "metadata": {},
   "outputs": [],
   "source": []
  }
 ],
 "metadata": {
  "kernelspec": {
   "display_name": "Python 3",
   "language": "python",
   "name": "python3"
  },
  "language_info": {
   "codemirror_mode": {
    "name": "ipython",
    "version": 3
   },
   "file_extension": ".py",
   "mimetype": "text/x-python",
   "name": "python",
   "nbconvert_exporter": "python",
   "pygments_lexer": "ipython3",
   "version": "3.8.5"
  }
 },
 "nbformat": 4,
 "nbformat_minor": 4
}
